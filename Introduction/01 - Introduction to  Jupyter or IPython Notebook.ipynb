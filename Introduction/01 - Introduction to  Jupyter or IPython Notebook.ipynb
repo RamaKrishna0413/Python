{
 "cells": [
  {
   "cell_type": "markdown",
   "metadata": {},
   "source": [
    "# md - Markdown\n",
    "Language they used is  LaTex\n",
    "\n",
    "# JUPYTER\n",
    "## JUlia . PYThon . R\n",
    "### will works in Default web browser\n",
    "\n",
    "**Powerfull tool for python**\n",
    "\n",
    "*particularlly for data analysis*\n",
    "\n",
    "Many companies are using ***JUPYTER Notebook**\n",
    "\n",
    "\n",
    "> Google, IBM  \n",
    "\n",
    "Languge used to write markdown is Latex\n"
   ]
  },
  {
   "cell_type": "markdown",
   "metadata": {},
   "source": [
    "it is Saved with an extention \n",
    "> .ipynb"
   ]
  },
  {
   "cell_type": "markdown",
   "metadata": {},
   "source": [
    "**Load image into jupyter notebook**"
   ]
  },
  {
   "cell_type": "markdown",
   "metadata": {},
   "source": [
    "press esc to turn into blue color to a cell and press shortcut key \"m\" to change cell into markdown\n",
    " > shift + enter is shortcut key to execute the cell"
   ]
  },
  {
   "cell_type": "markdown",
   "metadata": {},
   "source": [
    "![image](images/jupyter.png)"
   ]
  },
  {
   "cell_type": "markdown",
   "metadata": {},
   "source": [
    "shortkey for adding cell \n",
    "- for above - a\n",
    "- for below - b\n",
    "- for delete press d two times"
   ]
  },
  {
   "cell_type": "markdown",
   "metadata": {},
   "source": [
    "# Good Job !!!"
   ]
  }
 ],
 "metadata": {
  "kernelspec": {
   "display_name": "Python 3",
   "language": "python",
   "name": "python3"
  },
  "language_info": {
   "codemirror_mode": {
    "name": "ipython",
    "version": 3
   },
   "file_extension": ".py",
   "mimetype": "text/x-python",
   "name": "python",
   "nbconvert_exporter": "python",
   "pygments_lexer": "ipython3",
   "version": "3.6.4"
  }
 },
 "nbformat": 4,
 "nbformat_minor": 2
}
